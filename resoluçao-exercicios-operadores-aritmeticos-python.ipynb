{
  "nbformat": 4,
  "nbformat_minor": 0,
  "metadata": {
    "colab": {
      "provenance": [],
      "authorship_tag": "ABX9TyOgJVHlEQqWK+sFbVp9O27z",
      "include_colab_link": true
    },
    "kernelspec": {
      "name": "python3",
      "display_name": "Python 3"
    },
    "language_info": {
      "name": "python"
    }
  },
  "cells": [
    {
      "cell_type": "markdown",
      "metadata": {
        "id": "view-in-github",
        "colab_type": "text"
      },
      "source": [
        "<a href=\"https://colab.research.google.com/github/jeniferGoncalvesDaSilvaDev/exercicio-operadores-arimeticos-python/blob/main/resolu%C3%A7ao-exercicios-operadores-aritmeticos-python.ipynb\" target=\"_parent\"><img src=\"https://colab.research.google.com/assets/colab-badge.svg\" alt=\"Open In Colab\"/></a>"
      ]
    },
    {
      "cell_type": "markdown",
      "source": [
        "Calculo de juros simples\n"
      ],
      "metadata": {
        "id": "VUWOaQ3_6fU1"
      }
    },
    {
      "cell_type": "code",
      "source": [
        "c = float(input('Digite o capital investido em R$ : '))\n",
        "i = float(input('Digite a taxa de juros percentual : '))\n",
        "n= int(input('Digite o período de tempo da aplicação do capital: '))\n",
        "taxa_de_juros= i/100\n",
        "j = c * taxa_de_juros * n\n",
        "print(f'Capital:  R$ {c:.2f}')\n",
        "print(f'Taxa de juros percentual:  {i}')\n",
        "print(f'Taxa de juros decimal:  {taxa_de_juros}')\n",
        "print(f'Período de tempo: {n}')\n",
        "print(f'O juros dessa aplicação é de R$ {j:.2f}')"
      ],
      "metadata": {
        "colab": {
          "base_uri": "https://localhost:8080/"
        },
        "id": "XeIERv3i6mLF",
        "outputId": "548a4f7e-cffc-4eaa-880d-3da80441ae8e"
      },
      "execution_count": 4,
      "outputs": [
        {
          "output_type": "stream",
          "name": "stdout",
          "text": [
            "Digite o capital investido em R$ : 8.000\n",
            "Digite a taxa de juros percentual : 7\n",
            "Digite o período de tempo da aplicação do capital: 12\n",
            "Capital:  R$ 8.00\n",
            "Taxa de juros percentual:  7.0\n",
            "Taxa de juros decimal:  0.07\n",
            "Período de tempo: 12\n",
            "O juros dessa aplicação é de R$ 6.72\n"
          ]
        }
      ]
    },
    {
      "cell_type": "markdown",
      "source": [
        "Desconto de produto"
      ],
      "metadata": {
        "id": "TuVVHrhe9LwH"
      }
    },
    {
      "cell_type": "code",
      "source": [
        "preco=float(input('Informe o preço do produto: '))\n",
        "desconto=int(input('Informe o desconto: '))\n",
        "#porcentagem= desconto/100\n",
        "valor_do_desconto = preco * (desconto/100)\n",
        "print(f'O valor do desconto é de R$ {valor_do_desconto:.2f}')\n",
        "#calculando o preço com o valor do desconto!\n",
        "valor_preco_com_desconto = preco - valor_do_desconto\n",
        "print(f'O preço do produto : R$ {preco}')\n",
        "print(f'O desconto em porcentagem : {desconto}%')\n",
        "print(f'O valor final do produto, aplicado a seu desconto é de R${valor_preco_com_desconto:.2f}')"
      ],
      "metadata": {
        "colab": {
          "base_uri": "https://localhost:8080/"
        },
        "id": "WyOWyObI9OVf",
        "outputId": "629c96c2-1181-4aea-e5c7-0ef3041b9792"
      },
      "execution_count": 5,
      "outputs": [
        {
          "output_type": "stream",
          "name": "stdout",
          "text": [
            "Informe o preço do produto: 700.00\n",
            "Informe o desconto: 85\n",
            "O valor do desconto é de R$ 595.00\n",
            "O preço do produto : R$ 700.0\n",
            "O desconto em porcentagem : 85%\n",
            "O valor final do produto, aplicado a seu desconto é de R$105.00\n"
          ]
        }
      ]
    },
    {
      "cell_type": "markdown",
      "source": [
        "Calculo de força, segunda lei de Newton"
      ],
      "metadata": {
        "id": "Wc3f3bis_rAy"
      }
    },
    {
      "cell_type": "code",
      "source": [
        "massa = float(input('Insira a massa em kg: '))\n",
        "aceleracao = float(input('Insira a aceleração do corpo em metros/ segundo: '))\n",
        "forca = massa * aceleracao\n",
        "print(f'A massa do corpo em kg {massa}')\n",
        "print(f'A aceleração do corpo em m/s {aceleracao}')\n",
        "print(f'A força do corpo é de {forca:.2f} N')"
      ],
      "metadata": {
        "colab": {
          "base_uri": "https://localhost:8080/"
        },
        "id": "44PFTBkX_vqy",
        "outputId": "674fe5d6-1eac-4ccb-c8e4-858202c7609f"
      },
      "execution_count": null,
      "outputs": [
        {
          "output_type": "stream",
          "name": "stdout",
          "text": [
            "Insira a massa em kg: 60.00\n",
            "Insira a aceleração do corpo em metros/ segundo: 70.00\n",
            "A massa do corpo em kg 60.0\n",
            "A aceleração do corpo em m/s 70.0\n",
            "A força do corpo é de 4200.00 N\n"
          ]
        }
      ]
    },
    {
      "cell_type": "markdown",
      "source": [
        "Concentração de substancias quimicas"
      ],
      "metadata": {
        "id": "eWDw64p_EyNo"
      }
    },
    {
      "cell_type": "code",
      "source": [
        "c1=float(input('Informe a concentraçao inicial: '))\n",
        "v1=float(input('Informe o volume inicial: '))\n",
        "v2=float(input('Informe o volume final: '))\n",
        "c2=(c1 * v1)/v2\n",
        "print(f\"A concentração inicial: {c1}\")\n",
        "print(f\"O volume inicial: {v1}\")\n",
        "print(f\"O volume final: {v2}\")\n",
        "print(f\"A concentração final é: {c2}\")"
      ],
      "metadata": {
        "id": "r0XqoRrgE4iX",
        "outputId": "a285d1ce-c4f6-4506-e699-2006689759f7",
        "colab": {
          "base_uri": "https://localhost:8080/"
        }
      },
      "execution_count": 1,
      "outputs": [
        {
          "output_type": "stream",
          "name": "stdout",
          "text": [
            "Informe a concentraçao inicial: 20\n",
            "Informe o volume inicial: 2\n",
            "Informe o volume final: 1\n",
            "A concentração inicial: 20.0\n",
            "O volume inicial: 2.0\n",
            "O volume final: 1.0\n",
            "A concentração final é: 40.0\n"
          ]
        }
      ]
    },
    {
      "cell_type": "markdown",
      "source": [
        "Área do triangulo"
      ],
      "metadata": {
        "id": "pkR4_2Al3H_C"
      }
    },
    {
      "cell_type": "code",
      "source": [
        "h = float(input(\"Digite a altura do triangulo: \"))\n",
        "b= float(input(\"Digite a base: \"))\n",
        "a= (b * h)/2\n",
        "print(f\"Base: {b}\")\n",
        "print(f\"Altura: {h}\")\n",
        "print(f\"A área do triangulo é: {a}\")"
      ],
      "metadata": {
        "id": "Ov4i5DOZ3adF",
        "outputId": "0f50c50e-8860-4093-ba71-29bba4f5b1ec",
        "colab": {
          "base_uri": "https://localhost:8080/"
        }
      },
      "execution_count": 2,
      "outputs": [
        {
          "output_type": "stream",
          "name": "stdout",
          "text": [
            "Digite a altura do triangulo: 3.00\n",
            "Digite a base: 2.00\n",
            "Base: 2.0\n",
            "Altura: 3.0\n",
            "A área do triangulo é: 3.0\n"
          ]
        }
      ]
    }
  ]
}